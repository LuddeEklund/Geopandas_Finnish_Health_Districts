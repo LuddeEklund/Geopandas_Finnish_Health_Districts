{
 "cells": [
  {
   "cell_type": "markdown",
   "metadata": {},
   "source": [
    "Finnish municipalities with health district information is an Excel spreadsheet from Kuntaliitto: https://www.kuntaliitto.fi/sosiaali-ja-terveysasiat/sairaanhoitopiirien-jasenkunnat File Shp_jäsenkunnat_2020.xls, sheet kunnat_shp_2020_ aakkosjärj.\n",
    "\n",
    "\"shp\" stands for \"sairaanhoitopiiri\" (health district in Finnish). I have changed the name of the file to Shp_jasenkunnat_2020.xls and sheet to kunnat_shp_2020_ aakkosjarj\n",
    "\n",
    "Municipality polygons from National Land Survey of Finland web feature service:\n",
    "https://pta.spatineo-devops.com/sofp/collections/su_kansallinen_meri_1000k_wgs84/2020/items?tessellation=kunta&limit=1000&f=html&f=json\n",
    "info: https://pta.spatineo-devops.com/sofp/collections/su_kansallinen_meri_1000k_wgs84/2020/items?&tessellation=kunta&limit=1000\n",
    "\n",
    "Population count for each municipality from Statistics Finland: https://www.stat.fi/org/avoindata/paikkatietoaineistot/vaesto_tilastointialueittain.html\n",
    "\n",
    "Average income from the Paavo (zip-code) database: https://www.stat.fi/org/avoindata/paikkatietoaineistot.html\n"
   ]
  },
  {
   "cell_type": "code",
   "execution_count": null,
   "metadata": {},
   "outputs": [],
   "source": [
    "import json\n",
    "import numpy as np\n",
    "import pandas as pd\n",
    "import geopandas as gpd\n",
    "import matplotlib.pyplot as plt\n",
    "import xlrd   #to be able to read Excel\n"
   ]
  },
  {
   "cell_type": "code",
   "execution_count": null,
   "metadata": {},
   "outputs": [],
   "source": [
    "#1. Health district data\n",
    "\n",
    "df_orig = pd.read_excel(\"Shp_jasenkunnat_2020.xls\", sheet_name=\"kunnat_shp_2020_ aakkosjarj\",\n",
    "                     header=3)\n",
    "df_orig.dropna(inplace=True)\n",
    "df_orig.head()"
   ]
  },
  {
   "cell_type": "code",
   "execution_count": null,
   "metadata": {},
   "outputs": [],
   "source": [
    "healthDistrict = df_orig.copy()\n",
    "print(healthDistrict.shape)\n",
    "healthDistrict.tail()"
   ]
  },
  {
   "cell_type": "code",
   "execution_count": null,
   "metadata": {},
   "outputs": [],
   "source": [
    "healthDistrict.rename(columns={\"kunta-\\nkoodi\":\"code\", 'sairaanhoitopiiri':'healthCareDistrict'},\n",
    "          inplace=True)\n",
    "healthDistrict = healthDistrict[['code','healthCareDistrict']]\n",
    "healthDistrict.info()\n"
   ]
  },
  {
   "cell_type": "code",
   "execution_count": null,
   "metadata": {},
   "outputs": [],
   "source": [
    "# Truncate and convert to character string\n",
    "healthDistrict[\"code\"] = healthDistrict[\"code\"].astype(int)\n",
    "healthDistrict[\"code\"] = healthDistrict[\"code\"].astype('str')\n",
    "healthDistrict.head()\n"
   ]
  },
  {
   "cell_type": "code",
   "execution_count": null,
   "metadata": {},
   "outputs": [],
   "source": [
    "# Add missing zeros to municipality codes\n",
    "healthDistrict[\"code\"] = healthDistrict[\"code\"].apply(lambda x: \"00\" + x if len(x)==1 else x)\n",
    "healthDistrict[\"code\"] = healthDistrict[\"code\"].apply(lambda x: \"0\" + x if len(x)==2 else x)\n",
    "healthDistrict.head()\n"
   ]
  },
  {
   "cell_type": "code",
   "execution_count": null,
   "metadata": {},
   "outputs": [],
   "source": [
    "healthDistrict.info()"
   ]
  },
  {
   "cell_type": "code",
   "execution_count": null,
   "metadata": {},
   "outputs": [],
   "source": [
    "#2. GIS layer data\n",
    "\n",
    "# For available features, see http://geo.stat.fi/geoserver/tilastointialueet/wfs?request=GetCapabilities\n",
    "url = \"https://pta.spatineo-devops.com/sofp/collections/su_kansallinen_meri_1000k_wgs84/2020/items?tessellation=kunta&limit=1000&f=html&f=json\"\n",
    "geodata_orig = gpd.read_file(url)"
   ]
  },
  {
   "cell_type": "code",
   "execution_count": null,
   "metadata": {},
   "outputs": [],
   "source": [
    "# There are 310 municipalities in Finland in 2020\n",
    "geodata = geodata_orig.copy()\n",
    "print(geodata.shape)\n",
    "geodata.head()"
   ]
  },
  {
   "cell_type": "code",
   "execution_count": null,
   "metadata": {},
   "outputs": [],
   "source": [
    "geodata = geodata[['code', 'geometry']]\n",
    "geodata.tail()"
   ]
  },
  {
   "cell_type": "code",
   "execution_count": null,
   "metadata": {},
   "outputs": [],
   "source": [
    "geodata.info()"
   ]
  },
  {
   "cell_type": "code",
   "execution_count": null,
   "metadata": {},
   "outputs": [],
   "source": [
    "#Plot of municipalities\n",
    "geodata.plot()"
   ]
  },
  {
   "cell_type": "markdown",
   "metadata": {},
   "source": [
    "Population count for each municipality from Statistics Finland: https://www.stat.fi/org/avoindata/paikkatietoaineistot/vaesto_tilastointialueittain.html\n",
    "\n",
    "WFS: http://geo.stat.fi/geoserver/vaestoalue/wfs \n",
    "Note: Valtimo merged with Nurmes in 2020. Belongs to Pohjois-Karjala health care district. "
   ]
  },
  {
   "cell_type": "code",
   "execution_count": null,
   "metadata": {},
   "outputs": [],
   "source": [
    "# For available features, see http://geo.stat.fi/geoserver/vaestoalue/\n",
    "#wfs?request=GetCapabilities\n",
    "\n",
    "url = \"http://geo.stat.fi/geoserver/vaestoalue/wfs?request=GetFeature&typename=vaestoalue:kunta_vaki2018&outputformat=JSON\"\n",
    "pop_orig = gpd.read_file(url)"
   ]
  },
  {
   "cell_type": "code",
   "execution_count": null,
   "metadata": {},
   "outputs": [],
   "source": [
    "pop = pop_orig.copy()\n",
    "print(pop.shape)\n",
    "print(list(pop))\n",
    "pop.head()"
   ]
  },
  {
   "cell_type": "code",
   "execution_count": null,
   "metadata": {},
   "outputs": [],
   "source": [
    "#Select and rename columns\n",
    "pop = pop[[\"kunta\", \"name\", \"vaesto\",\"ika_65_\"]]\n",
    "pop.rename(columns={'kunta':'code', 'vaesto':'population', 'ika_65_':'age_65'}, inplace=True)\n",
    "pop.tail()"
   ]
  },
  {
   "cell_type": "code",
   "execution_count": null,
   "metadata": {},
   "outputs": [],
   "source": [
    "# Check length, in 2020, there are 310 Municipalities. \n",
    "# 2019 data still contains Valtimo which was merged with Nurmes at the end of 2019\n",
    "pop.loc[pop['name'] == 'Valtimo']"
   ]
  },
  {
   "cell_type": "code",
   "execution_count": null,
   "metadata": {},
   "outputs": [],
   "source": [
    "pop.loc[pop['name'] == 'Nurmes']"
   ]
  },
  {
   "cell_type": "code",
   "execution_count": null,
   "metadata": {},
   "outputs": [],
   "source": [
    "pop.loc[292, 'name'] = 'Nurmes'\n",
    "pop.loc[292, 'code'] = 541\n",
    "\n",
    "temp = pop.loc[pop['name'] == 'Nurmes']\n",
    "temp"
   ]
  },
  {
   "cell_type": "code",
   "execution_count": null,
   "metadata": {},
   "outputs": [],
   "source": [
    "pop.loc[176, 'population'] = sum(temp.population) \n",
    "pop.loc[176, 'age_65'] = sum(temp.age_65) \n",
    "pop = pop.drop(292)   #drop Valtimo\n",
    "print(pop.shape)\n",
    "pop.loc[176]"
   ]
  },
  {
   "cell_type": "code",
   "execution_count": null,
   "metadata": {},
   "outputs": [],
   "source": [
    "pop.info()"
   ]
  },
  {
   "cell_type": "code",
   "execution_count": null,
   "metadata": {},
   "outputs": [],
   "source": [
    "geodata = geodata.merge(pop[[\"code\", \"name\", \"population\", \"age_65\"]], on=\"code\")\n",
    "geodata.head()"
   ]
  },
  {
   "cell_type": "code",
   "execution_count": null,
   "metadata": {},
   "outputs": [],
   "source": [
    "#Join Health district to geodata\n",
    "geodata = geodata.merge(healthDistrict, on=\"code\", how=\"left\")\n",
    "geodata.tail(8)"
   ]
  },
  {
   "cell_type": "code",
   "execution_count": null,
   "metadata": {},
   "outputs": [],
   "source": [
    "# Municipalities in the Åland island did not have a matching health care district in the data\n",
    "# count the number of NaN values in each column\n",
    "print(geodata.isnull().sum())\n",
    "geodata[geodata.healthCareDistrict.isnull()].name"
   ]
  },
  {
   "cell_type": "code",
   "execution_count": null,
   "metadata": {},
   "outputs": [],
   "source": [
    "# Update \"Ahvenanmaa\" as the health care district for Åland municipalities (16 municipalities in total)\n",
    "geodata.loc[geodata.healthCareDistrict.isnull(),'healthCareDistrict'] = \"Ahvenanmaa\"\n",
    "geodata.healthCareDistrict.value_counts()"
   ]
  },
  {
   "cell_type": "code",
   "execution_count": null,
   "metadata": {},
   "outputs": [],
   "source": [
    "geodata.info()"
   ]
  },
  {
   "cell_type": "code",
   "execution_count": null,
   "metadata": {},
   "outputs": [],
   "source": [
    "#Create polygons for health care districts\n",
    "# Dissolve (=combine) municipality polygon geometries for each health care district\n",
    "# In the geopandas library, we can aggregate geometric features using the dissolve function.\n",
    "\n",
    "districts = geodata.dissolve(by='healthCareDistrict', aggfunc=\"sum\")\n",
    "districts.reset_index(inplace=True)\n",
    "districts.head(3)"
   ]
  },
  {
   "cell_type": "code",
   "execution_count": null,
   "metadata": {},
   "outputs": [],
   "source": [
    "#calclulate percentage old\n",
    "districts['perc_pop_over_65'] = round( (districts['age_65']/districts['population']*100) , 1)\n",
    "#districts.to_file(\"HealthDistricts.geojson\", driver=\"GeoJSON\")  #can be exported as a geojson file\n",
    "districts"
   ]
  },
  {
   "cell_type": "code",
   "execution_count": null,
   "metadata": {},
   "outputs": [],
   "source": [
    "import plotly.graph_objs as go\n",
    "import plotly.express as px\n",
    "\n",
    "df_districts = districts[['healthCareDistrict', 'population', 'perc_pop_over_65']]\n",
    "\n",
    "fig = px.choropleth_mapbox(df_districts,\n",
    "                           geojson=districts,   \n",
    "                           locations=\"population\",\n",
    "                           featureidkey=\"properties.population\",\n",
    "                           color=\"perc_pop_over_65\",\n",
    "                           color_continuous_scale=\"Viridis\",\n",
    "                           range_color=(18, 32),\n",
    "                           mapbox_style=\"carto-positron\",\n",
    "                           zoom=3, center={\"lat\": 65, \"lon\": 26},\n",
    "                           opacity=0.7,\n",
    "                           labels={'perc_pop_over_65':'percentage of population over 65'},\n",
    "                           hover_name=\"healthCareDistrict\"\n",
    "                           )\n",
    "\n",
    "fig.show()"
   ]
  },
  {
   "cell_type": "code",
   "execution_count": null,
   "metadata": {},
   "outputs": [],
   "source": [
    "#3. Calculate average income\n",
    "\n",
    "#Paavo: https://www.stat.fi/org/avoindata/paikkatietoaineistot.html, zip-code info for Finland\n",
    "url = \"http://geo.stat.fi/geoserver/wfs?service=WFS&version=1.0.0&request=GetFeature&typeName=postialue:pno_tilasto&outputFormat=json\"\n",
    "zip_code_orig = gpd.read_file(url)\n",
    "zip_code_orig.tail()"
   ]
  },
  {
   "cell_type": "code",
   "execution_count": null,
   "metadata": {},
   "outputs": [],
   "source": [
    "df = zip_code_orig.copy()\n",
    "print(df.shape)\n",
    "print(list(df))"
   ]
  },
  {
   "cell_type": "code",
   "execution_count": null,
   "metadata": {},
   "outputs": [],
   "source": [
    "#'hr_ktu' is average yearly income(€) for inhabitants over 18 years in 2017.   \n",
    "#'ko_ika18y' is the number of inhabitants of age 18 or over (2018)\n",
    "\n",
    "df = df[['postinumeroalue', 'kunta', 'ko_ika18y', 'hr_ktu']]\n",
    "\n",
    "#kunta is municipality, replaced with code\n",
    "df.rename(columns={'postinumeroalue': 'zip_code', 'kunta': 'code', 'ko_ika18y':'age18', \n",
    "                   'hr_ktu':'average_income'}, inplace = True)\n",
    "\n",
    "df['total_av_income'] = df['average_income']* df['age18'] \n",
    "df['total_av_income'] = df['total_av_income'].astype(int)\n",
    "df.head()"
   ]
  },
  {
   "cell_type": "code",
   "execution_count": null,
   "metadata": {},
   "outputs": [],
   "source": [
    "df.info()"
   ]
  },
  {
   "cell_type": "code",
   "execution_count": null,
   "metadata": {},
   "outputs": [],
   "source": [
    "# count the number of NaN values in each column\n",
    "print(df.isnull().sum())"
   ]
  },
  {
   "cell_type": "code",
   "execution_count": null,
   "metadata": {},
   "outputs": [],
   "source": [
    "#Assuming if avaraeg income less than 1 €/ year, data is missing and rows are dropped.\n",
    "temp = df.loc[df['average_income'] <= 1]\n",
    "temp"
   ]
  },
  {
   "cell_type": "code",
   "execution_count": null,
   "metadata": {},
   "outputs": [],
   "source": [
    "#drop temp index number\n",
    "drop_list = temp.index.to_list()\n",
    "df = df.drop(drop_list)\n",
    "print(df.shape)\n",
    "df.tail(10)"
   ]
  },
  {
   "cell_type": "code",
   "execution_count": null,
   "metadata": {},
   "outputs": [],
   "source": [
    "df = df [['code', 'age18', 'total_av_income']]\n",
    "df = df.groupby(['code']).sum()\n",
    "df.reset_index(inplace=True)  \n",
    "print(df.shape)\n",
    "df.head()"
   ]
  },
  {
   "cell_type": "code",
   "execution_count": null,
   "metadata": {},
   "outputs": [],
   "source": [
    "#292= Valtimo is correctly missing\n",
    "print(df['code'].to_list())"
   ]
  },
  {
   "cell_type": "code",
   "execution_count": null,
   "metadata": {},
   "outputs": [],
   "source": [
    "#Join Total Average Income to geodata\n",
    "geo_df = geodata.merge(df, on=\"code\", how=\"left\")\n",
    "print(list(geo_df))\n",
    "geo_df.tail(8)"
   ]
  },
  {
   "cell_type": "code",
   "execution_count": null,
   "metadata": {},
   "outputs": [],
   "source": [
    "districts_income = geo_df.dissolve(by='healthCareDistrict', aggfunc=\"sum\")\n",
    "districts_income['income_pro_person'] = round( districts_income['total_av_income']/districts_income['age18'] , 0)\n",
    "districts_income['income_pro_person'] = districts_income['income_pro_person'].astype(int)\n",
    "districts_income.reset_index(inplace=True)\n",
    "districts_income"
   ]
  },
  {
   "cell_type": "code",
   "execution_count": null,
   "metadata": {},
   "outputs": [],
   "source": [
    "df_income = districts_income[['healthCareDistrict', 'population', 'income_pro_person']]\n",
    "#df_income.to_csv('df_income.csv')\n",
    "df_income.head(2)"
   ]
  },
  {
   "cell_type": "code",
   "execution_count": null,
   "metadata": {},
   "outputs": [],
   "source": [
    "fig = px.choropleth_mapbox(df_income,\n",
    "                           geojson= districts_income,  \n",
    "                           locations=\"population\",\n",
    "                           featureidkey=\"properties.population\",\n",
    "                           color=\"income_pro_person\",\n",
    "                           color_continuous_scale=\"Viridis\",\n",
    "                           range_color=(20000, 30000),\n",
    "                           mapbox_style=\"carto-positron\",\n",
    "                           zoom=3, center={\"lat\": 65, \"lon\": 26},\n",
    "                           opacity=0.7,\n",
    "                           labels={'income_pro_person':'Income pro person (over 18 y)'},\n",
    "                           hover_name=\"healthCareDistrict\"\n",
    "                           )\n",
    "\n",
    "fig.show()"
   ]
  },
  {
   "cell_type": "code",
   "execution_count": null,
   "metadata": {},
   "outputs": [],
   "source": []
  }
 ],
 "metadata": {
  "kernelspec": {
   "display_name": "Python 3",
   "language": "python",
   "name": "python3"
  },
  "language_info": {
   "codemirror_mode": {
    "name": "ipython",
    "version": 3
   },
   "file_extension": ".py",
   "mimetype": "text/x-python",
   "name": "python",
   "nbconvert_exporter": "python",
   "pygments_lexer": "ipython3",
   "version": "3.8.3"
  }
 },
 "nbformat": 4,
 "nbformat_minor": 2
}

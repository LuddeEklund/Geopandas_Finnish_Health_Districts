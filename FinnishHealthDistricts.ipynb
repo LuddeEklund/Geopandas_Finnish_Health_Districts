{
 "cells": [
  {
   "cell_type": "markdown",
   "metadata": {},
   "source": [
    "Key parameters for Finnish health districts\n",
    "\n",
    "The aim of this work is to\n",
    "\n",
    "1. Creating a GIS layer for Finnish Health Districts\n",
    "2. Illustrating proportion of population over 65 years and medium houshold income for every district\n",
    "\n",
    "We will create the health district polygons based on Statistics Finland municipality polygons, population and zip code info and a list of health care districts by municipality from Kuntaliitto.\n",
    "\n",
    "Finnish municipalities with health district information is an Excel spreadsheet from here: https://www.kuntaliitto.fi/sosiaali-ja-terveysasiat/sairaanhoitopiirien-jasenkunnat File Shp_jäsenkunnat_2020.xls, sheet kunnat_shp_2020_ aakkosjärj.\n",
    "\n",
    "\"shp\" stands for \"sairaanhoitopiiri\" (health district in Finnish). I have changed the name of the file to Shp_jasenkunnat_2020.xls and sheet to kunnat_shp_2020_ aakkosjarj\n",
    "\n",
    "Municipality polygons from Statistics Finland web feature service: https://www.stat.fi/org/avoindata/paikkatietoaineistot/kuntapohjaiset_tilastointialueet.html wfs: http://geo.stat.fi/geoserver/tilastointialueet/wfs? feature: tilastointialueet:kunta1000k (most recent information about municipality polygons).\n",
    "\n",
    "Population count for each municipality from Statistics Finland: https://www.stat.fi/org/avoindata/paikkatietoaineistot/vaesto_tilastointialueittain.html\n",
    "\n",
    "Medium Houshold income for every houshold from the Paavo database: https://www.stat.fi/org/avoindata/paikkatietoaineistot.html (to be added later).\n",
    "\n",
    "Note, this data set does not include Åland (Ahvenanmaa). Åland municipalities are added in the later step."
   ]
  },
  {
   "cell_type": "code",
   "execution_count": null,
   "metadata": {},
   "outputs": [],
   "source": [
    "import json\n",
    "import numpy as np\n",
    "import pandas as pd\n",
    "import geopandas as gpd\n",
    "from pyproj import CRS\n",
    "import matplotlib.pyplot as plt\n",
    "import xlrd   #to be able to read Excel"
   ]
  },
  {
   "cell_type": "code",
   "execution_count": null,
   "metadata": {},
   "outputs": [],
   "source": [
    "#check if you have up to date version of pandas, problem can occur when loading geopandas\n",
    "pd.show_versions(as_json=False)"
   ]
  },
  {
   "cell_type": "code",
   "execution_count": null,
   "metadata": {},
   "outputs": [],
   "source": [
    "#1. Health district data\n",
    "\n",
    "df_orig = pd.read_excel(\"Shp_jasenkunnat_2020.xls\", sheet_name=\"kunnat_shp_2020_ aakkosjarj\",\n",
    "                     header=3)\n",
    "df_orig.dropna(inplace=True)\n",
    "df_orig.head()"
   ]
  },
  {
   "cell_type": "code",
   "execution_count": null,
   "metadata": {},
   "outputs": [],
   "source": [
    "df = df_orig.copy()\n",
    "print(df.shape)\n",
    "df.tail()"
   ]
  },
  {
   "cell_type": "code",
   "execution_count": null,
   "metadata": {},
   "outputs": [],
   "source": [
    "df.rename(columns={\"kunta-\\nkoodi\":\"code\", 'sairaanhoitopiiri':'healthCareDistrict'},\n",
    "          inplace=True)\n",
    "df = df[['code','healthCareDistrict']]\n"
   ]
  },
  {
   "cell_type": "code",
   "execution_count": null,
   "metadata": {},
   "outputs": [],
   "source": [
    "# Truncate and convert to character string\n",
    "df[\"code\"] = df[\"code\"].astype(int).astype('str')\n",
    "df.head()\n"
   ]
  },
  {
   "cell_type": "code",
   "execution_count": null,
   "metadata": {},
   "outputs": [],
   "source": [
    "# Add missing zeros to municipality codes\n",
    "df[\"code\"] = df[\"code\"].apply(lambda x: \"00\" + x if len(x)==1 else x)\n",
    "df[\"code\"] = df[\"code\"].apply(lambda x: \"0\" + x if len(x)==2 else x)\n",
    "df.tail()\n"
   ]
  },
  {
   "cell_type": "code",
   "execution_count": null,
   "metadata": {},
   "outputs": [],
   "source": [
    "df.head()"
   ]
  },
  {
   "cell_type": "markdown",
   "metadata": {},
   "source": [
    "Municipality polygons from Statistics Finland web feature service: https://www.stat.fi/org/avoindata/paikkatietoaineistot/kuntapohjaiset_tilastointialueet.html wfs: http://geo.stat.fi/geoserver/tilastointialueet/wfs? feature: tilastointialueet:kunta1000k (most recent information about municipality polygons)\n"
   ]
  },
  {
   "cell_type": "code",
   "execution_count": null,
   "metadata": {},
   "outputs": [],
   "source": [
    "#2. GIS layer data\n",
    "\n",
    "# For available features, see http://geo.stat.fi/geoserver/tilastointialueet/wfs?request=GetCapabilities\n",
    "#slow step! \n",
    "url = \"http://geo.stat.fi/geoserver/tilastointialueet/wfs?request=GetFeature&typename=tilastointialueet:kunta1000k&outputformat=JSON\"\n",
    "geodata_orig = gpd.read_file(url)"
   ]
  },
  {
   "cell_type": "code",
   "execution_count": null,
   "metadata": {},
   "outputs": [],
   "source": [
    "# There are 310 municipalities in Finland in 2020\n",
    "geodata = geodata_orig.copy()\n",
    "print(geodata.shape)\n",
    "geodata.head()"
   ]
  },
  {
   "cell_type": "code",
   "execution_count": null,
   "metadata": {},
   "outputs": [],
   "source": [
    "#Select and rename columns\n",
    "geodata = geodata[['kunta', 'geometry']]\n",
    "geodata.rename(columns={'kunta':'code'}, inplace=True)\n",
    "geodata.tail()"
   ]
  },
  {
   "cell_type": "code",
   "execution_count": null,
   "metadata": {},
   "outputs": [],
   "source": [
    "#Plot of municipalities\n",
    "geodata.plot()"
   ]
  },
  {
   "cell_type": "markdown",
   "metadata": {},
   "source": [
    "Population count for each municipality from Statistics Finland: https://www.stat.fi/org/avoindata/paikkatietoaineistot/vaesto_tilastointialueittain.html\n",
    "\n",
    "WFS: http://geo.stat.fi/geoserver/vaestoalue/wfs \n",
    "Note: Valtimo merged with Nurmes in 2020. Belongs to Pohjois-Karjala health care district. "
   ]
  },
  {
   "cell_type": "code",
   "execution_count": null,
   "metadata": {},
   "outputs": [],
   "source": [
    "# For available features, see http://geo.stat.fi/geoserver/vaestoalue/\n",
    "#wfs?request=GetCapabilities\n",
    "\n",
    "url = \"http://geo.stat.fi/geoserver/vaestoalue/wfs?request=GetFeature&typename=vaestoalue:kunta_vaki2018&outputformat=JSON\"\n",
    "pop_orig = gpd.read_file(url)"
   ]
  },
  {
   "cell_type": "code",
   "execution_count": null,
   "metadata": {},
   "outputs": [],
   "source": [
    "pop = pop_orig.copy()\n",
    "print(pop.shape)\n",
    "print(list(pop))\n",
    "pop.tail()"
   ]
  },
  {
   "cell_type": "code",
   "execution_count": null,
   "metadata": {},
   "outputs": [],
   "source": [
    "#Select and rename columns\n",
    "pop = pop[[\"kunta\", \"name\", \"vaesto\",\"ika_65_\", \"geometry\"]]\n",
    "pop.rename(columns={'kunta':'code', 'vaesto':'population_31_12_2018', 'ika_65_':'age_65'}, inplace=True)\n",
    "pop.tail()"
   ]
  },
  {
   "cell_type": "code",
   "execution_count": null,
   "metadata": {},
   "outputs": [],
   "source": [
    "# Check length, in 2020, there are 310 Municipalities. \n",
    "# 2019 data still contains Valtimo which was merged with Nurmes at the end of 2019\n",
    "pop.loc[pop['name'] == 'Valtimo']"
   ]
  },
  {
   "cell_type": "code",
   "execution_count": null,
   "metadata": {},
   "outputs": [],
   "source": [
    "pop.loc[pop['name'] == 'Nurmes']"
   ]
  },
  {
   "cell_type": "code",
   "execution_count": null,
   "metadata": {},
   "outputs": [],
   "source": [
    "pop.loc[292, 'name'] = 'Nurmes'\n",
    "pop.loc[292, 'code'] = 541\n",
    "\n",
    "temp = pop.loc[pop['name'] == 'Nurmes']\n",
    "temp"
   ]
  },
  {
   "cell_type": "code",
   "execution_count": null,
   "metadata": {},
   "outputs": [],
   "source": [
    "# Re-join municipality names to the new geometries. \n",
    "temp = temp.dissolve(by=\"name\", aggfunc = 'sum')\n",
    "temp.reset_index(inplace=True)  \n",
    "temp"
   ]
  },
  {
   "cell_type": "code",
   "execution_count": null,
   "metadata": {},
   "outputs": [],
   "source": [
    "temp.loc[0, 'geometry']"
   ]
  },
  {
   "cell_type": "code",
   "execution_count": null,
   "metadata": {},
   "outputs": [],
   "source": [
    "pop.loc[292, 'geometry']"
   ]
  },
  {
   "cell_type": "code",
   "execution_count": null,
   "metadata": {},
   "outputs": [],
   "source": [
    "pop.loc[176, 'geometry']"
   ]
  },
  {
   "cell_type": "code",
   "execution_count": null,
   "metadata": {},
   "outputs": [],
   "source": [
    "pop.loc[176, 'geometry'] = temp.loc[0, 'geometry']\n",
    "pop.loc[176, 'population_31_12_2018'] = temp.loc[0, 'population_31_12_2018']\n",
    "pop.loc[176, 'age_65'] = temp.loc[0, 'age_65']\n",
    "#drop Valtimo\n",
    "pop = pop.drop(292)\n",
    "print(pop.shape)\n",
    "pop.loc[176]"
   ]
  },
  {
   "cell_type": "code",
   "execution_count": null,
   "metadata": {},
   "outputs": [],
   "source": [
    "pop.info()"
   ]
  },
  {
   "cell_type": "code",
   "execution_count": null,
   "metadata": {},
   "outputs": [],
   "source": [
    "#The population data comes also with municipality polygons.\n",
    "pop.plot()"
   ]
  },
  {
   "cell_type": "code",
   "execution_count": null,
   "metadata": {},
   "outputs": [],
   "source": [
    "#However, I will return to using the 1000k more precise polygons read in earlier\n",
    "\n",
    "geodata = geodata.merge(pop[[\"code\", \"name\", \"population_31_12_2018\", \"age_65\"]], on=\"code\")\n",
    "geodata.head()"
   ]
  },
  {
   "cell_type": "code",
   "execution_count": null,
   "metadata": {},
   "outputs": [],
   "source": [
    "#Join Health district to geodata\n",
    "geodata = geodata.merge(df, on=\"code\", how=\"left\")\n",
    "geodata.tail(8)"
   ]
  },
  {
   "cell_type": "code",
   "execution_count": null,
   "metadata": {},
   "outputs": [],
   "source": [
    "# Municipalities in the Åland island did not have a matching health care district in the data\n",
    "# count the number of NaN values in each column\n",
    "print(geodata.isnull().sum())\n",
    "geodata[geodata.healthCareDistrict.isnull()].name"
   ]
  },
  {
   "cell_type": "code",
   "execution_count": null,
   "metadata": {},
   "outputs": [],
   "source": [
    "# Update \"Ahvenanmaa\" as the health care district for Åland municipalities (16 municipalities in total)\n",
    "geodata.loc[geodata.healthCareDistrict.isnull(),'healthCareDistrict'] = \"Ahvenanmaa\"\n",
    "geodata.healthCareDistrict.value_counts()"
   ]
  },
  {
   "cell_type": "code",
   "execution_count": null,
   "metadata": {},
   "outputs": [],
   "source": [
    "geodata.info()"
   ]
  },
  {
   "cell_type": "code",
   "execution_count": null,
   "metadata": {},
   "outputs": [],
   "source": [
    "#Create polygons for health care districts\n",
    "# Dissolve (=combine) municipality polygon geometries for each health care district\n",
    "#https://geopandas.org/aggregation_with_dissolve.html\n",
    "# In the geopandas library, we can aggregate geometric features using the dissolve function.\n",
    "\n",
    "districts = geodata.dissolve(by='healthCareDistrict', aggfunc=\"sum\")\n",
    "districts.reset_index(inplace=True)\n",
    "districts"
   ]
  },
  {
   "cell_type": "code",
   "execution_count": null,
   "metadata": {},
   "outputs": [],
   "source": [
    "#calclulate percentage old\n",
    "districts['perc_pop_over_65'] = round( (districts['age_65']/districts['population_31_12_2018']*100) , 1)\n",
    "districts"
   ]
  },
  {
   "cell_type": "code",
   "execution_count": null,
   "metadata": {},
   "outputs": [],
   "source": [
    "# Plot population estimates with an accurate legend, https://geopandas.org/mapping.html\n",
    "from mpl_toolkits.axes_grid1 import make_axes_locatable\n",
    "\n",
    "fig, ax = plt.subplots(figsize=(20, 10))\n",
    "divider = make_axes_locatable(ax)\n",
    "cax = divider.append_axes(\"bottom\", size=\"5%\", pad=0.1)   \n",
    "fig.suptitle('Percentage of population over 65 years old in Finnish health districts', fontsize=16)\n",
    "\n",
    "districts.plot( column='perc_pop_over_65', ax=ax, cax = cax, legend=True, legend_kwds=\n",
    "               {'label': \"Percentage of population over 65 years\", 'orientation': \"horizontal\"} ) "
   ]
  },
  {
   "cell_type": "code",
   "execution_count": null,
   "metadata": {},
   "outputs": [],
   "source": [
    "# Write population per health care district to csv\n",
    "districts[['healthCareDistrict', 'geometry', 'population_31_12_2018']].to_csv(\"healtCareDistricts_pop.csv\")\n"
   ]
  },
  {
   "cell_type": "code",
   "execution_count": null,
   "metadata": {},
   "outputs": [],
   "source": []
  }
 ],
 "metadata": {
  "kernelspec": {
   "display_name": "Python 3",
   "language": "python",
   "name": "python3"
  },
  "language_info": {
   "codemirror_mode": {
    "name": "ipython",
    "version": 3
   },
   "file_extension": ".py",
   "mimetype": "text/x-python",
   "name": "python",
   "nbconvert_exporter": "python",
   "pygments_lexer": "ipython3",
   "version": "3.8.2"
  }
 },
 "nbformat": 4,
 "nbformat_minor": 2
}
